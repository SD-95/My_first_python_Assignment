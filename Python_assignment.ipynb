{
 "cells": [
  {
   "cell_type": "code",
   "execution_count": null,
   "id": "52c8bfec-c26e-475b-83cf-d1ebb5c5eb0f",
   "metadata": {},
   "outputs": [],
   "source": [
    "##01 explain the key featutes of Python that make it a popular choice for programmimg.\n",
    "\n",
    "\"\"\"\n",
    "Python is a formal programming language for creating instructin for a computer to follow.\n",
    "it also a set of rules and symbols that define the process of writing computer programme.\n",
    "\n",
    "the key features of python\n",
    "\n",
    "1. widely used in the industry where top 500 companies are working with it.\n",
    "2. widely used in the data industries.\n",
    "3. it have more than 137000 libreries.\n",
    "4. we have a use cases using python in front-end, back-end, data analysis as well.\n",
    "5. It is a popular choice for automation tasks.\n",
    "6. Image Processing\n",
    "7. database\n",
    "8. Easy to learn and Simple and Readable Syntax.\n",
    "9. largest Community Support and Documentation.\n",
    "\n",
    "\"\"\""
   ]
  },
  {
   "cell_type": "code",
   "execution_count": 18,
   "id": "3970123e-9d41-47e4-af3c-10ddbb120595",
   "metadata": {},
   "outputs": [
    {
     "name": "stdout",
     "output_type": "stream",
     "text": [
      "1 is a small positive number.\n",
      "Count is 1, continuing...\n",
      "7 is a small positive number.\n",
      "Count is 7, continuing...\n",
      "Count is 6, continuing...\n",
      "Count reached 5, exiting the loop.\n",
      "12 is a large number.\n",
      "Count is 12, continuing...\n",
      "Count is 11, continuing...\n",
      "Count is 10, continuing...\n",
      "Count is 9, continuing...\n",
      "Count is 8, continuing...\n",
      "Count is 7, continuing...\n",
      "Count is 6, continuing...\n",
      "Count reached 5, exiting the loop.\n",
      "-5 is a negative number.\n",
      "0 is zero.\n",
      "8 is a small positive number.\n",
      "Count is 8, continuing...\n",
      "Count is 7, continuing...\n",
      "Count is 6, continuing...\n",
      "Count reached 5, exiting the loop.\n",
      "15 is a large number.\n",
      "Count is 15, continuing...\n",
      "Count is 14, continuing...\n",
      "Count is 13, continuing...\n",
      "Count is 12, continuing...\n",
      "Count is 11, continuing...\n",
      "Count is 10, continuing...\n",
      "Count is 9, continuing...\n",
      "Count is 8, continuing...\n",
      "Count is 7, continuing...\n",
      "Count is 6, continuing...\n",
      "Count reached 5, exiting the loop.\n",
      "4 is a small positive number.\n",
      "Count is 4, continuing...\n",
      "Count is 3, continuing...\n",
      "Count is 2, continuing...\n",
      "Count is 1, continuing...\n"
     ]
    }
   ],
   "source": [
    "##02 Descsibe the role of predefined keywords in Python and provide examples of how they are used in a programmimg.\n",
    "\n",
    "\"\"\"\n",
    "The predefined keywords that hold a special meaning and have specific purpose in python programming.\n",
    "\n",
    "there are so many predefined keywords are in python programming such as,\n",
    "\n",
    "\"if\", \"else\", \"elif\", \"for\", \"while\", \"break\", \"continue\" these are using in conditional statements\n",
    "\n",
    " \"\"\"\n",
    "##Example :-\n",
    "\n",
    "numbers = [1, 7, 12, -5, 0, 8, 15, 4]\n",
    "\n",
    "\n",
    "for a in numbers:\n",
    "    if a == 0:                                             #  if\n",
    "        print(f\"{a} is zero.\")\n",
    "        continue                                           #  continue\n",
    "    elif a < 0:                                            #  elif\n",
    "        print(f\"{a} is a negative number.\")\n",
    "    elif a > 10:\n",
    "        print(f\"{a} is a large number.\")\n",
    "    else:                                                  # else\n",
    "        print(f\"{a} is a small positive number.\")\n",
    "    \n",
    "    \n",
    "    count = a\n",
    "    while count > 0:                                       #while\n",
    "        if count == 5:\n",
    "            print(\"Count reached 5, exiting the loop.\")\n",
    "            break                                         # Break\n",
    "        print(f\"Count is {count}, continuing...\")\n",
    "        count -= 1  \n"
   ]
  },
  {
   "cell_type": "code",
   "execution_count": 43,
   "id": "b22f9bbd-6c8c-4751-b077-59bcfb660b3d",
   "metadata": {},
   "outputs": [
    {
     "name": "stdout",
     "output_type": "stream",
     "text": [
      "[1, 2, 3, 4.3, (3+5j), True, 'hello']\n",
      "[1, 2, 3, 4.3, (3+5j), True, 'world']\n"
     ]
    }
   ],
   "source": [
    "##03  Compare and contrast mutable and immutable objects in Python with examples.\n",
    "\n",
    "## Mutable                                                          ## Immutable \n",
    "\n",
    "\"\"\"\n",
    "1. objects/container whose state or value can be changed        1. objects/container whoes state or value can not be changed after they are\n",
    "   after they are created are called mutable objects               called as mutable objects or container.\n",
    "   \n",
    "2. list is a type of mutable object                             2. string is a type of immutable object\n",
    "\n",
    "3. it support item assignment                                   3. It does not support item assignment\n",
    "\n",
    "\"\"\"\n",
    "## mutable example\n",
    "\n",
    "list_container = [1, 2, 3, 4.3, 3+5j, True, \"hello\"]\n",
    "print(list_container)\n",
    "list_container[6] = 'world'\n",
    "print(list_container)\n",
    "\n",
    "## Immutable example\n",
    "\n",
    "a = \"somes\"\n",
    "a[3] = \"a\""
   ]
  },
  {
   "cell_type": "code",
   "execution_count": 55,
   "id": "53ec23db-de34-41df-9418-78821be709d7",
   "metadata": {},
   "outputs": [
    {
     "data": {
      "text/plain": [
       "\"\\npython operators are special keywords/symbols that are used to perform operations, values or variables\\n\\n##arithmatic operator\\n\\n[+,-,*,/]\\n\\na = 2\\nb = 3\\na+b, a-b, a*b, a/b\\n\\n##comparison operator compare two values and return a boolean value\\n\\n2==2 (true)\\n2!=2 (false)\\n2<=2 (true)\\n2>=2 (true)\\n\\n##membership operator\\n\\na = ['data', 'analytics', 'science']\\n\\n'data' in a (true)\\n'data' not in a (false)\\n'hello' in a (false)\\n\\n##Identity operatpor compare the location of two object / variable\\n\\na = 2\\nb = 3\\n\\na is b (false)\\n\\na = 2\\n\\nb = a\\n\\na is b (true) \\n\\n\""
      ]
     },
     "execution_count": 55,
     "metadata": {},
     "output_type": "execute_result"
    }
   ],
   "source": [
    "##04  Discuss the different types of operators in Python and provide examples of how they are used.\n",
    "\"\"\"\n",
    "python operators are special keywords/symbols that are used to perform operations, values or variables\n",
    "\n",
    "##arithmatic operator\n",
    "\n",
    "[+,-,*,/]\n",
    "\n",
    "a = 2\n",
    "b = 3\n",
    "a+b, a-b, a*b, a/b\n",
    "\n",
    "##comparison operator compare two values and return a boolean value\n",
    "\n",
    "2==2 (true)\n",
    "2!=2 (false)\n",
    "2<=2 (true)\n",
    "2>=2 (true)\n",
    "\n",
    "##membership operator\n",
    "\n",
    "a = ['data', 'analytics', 'science']\n",
    "\n",
    "'data' in a (true)\n",
    "'data' not in a (false)\n",
    "'hello' in a (false)\n",
    "\n",
    "##Identity operatpor compare the location of two object / variable\n",
    "\n",
    "a = 2\n",
    "b = 3\n",
    "\n",
    "a is b (false)\n",
    "\n",
    "a = 2\n",
    "\n",
    "b = a\n",
    "\n",
    "a is b (true) \n",
    "\n",
    "\"\"\""
   ]
  },
  {
   "cell_type": "code",
   "execution_count": 65,
   "id": "59ce1b7b-4c1e-4c47-904e-caee147461bd",
   "metadata": {},
   "outputs": [
    {
     "name": "stdout",
     "output_type": "stream",
     "text": [
      "5 is the value\n",
      "<class 'str'>\n",
      "<class 'int'>\n"
     ]
    }
   ],
   "source": [
    "##05 Explain the concept of type casting in Python with examples.\n",
    "\n",
    "'''\n",
    "type casting is a process of  changing the data type of a value / object\n",
    "'''\n",
    "a = \"2\"\n",
    "b = 3\n",
    "print(int(a) + b, 'is the value')\n",
    "print(type(a))\n",
    "print(type(int(a)))"
   ]
  },
  {
   "cell_type": "code",
   "execution_count": 67,
   "id": "7d744ea8-e871-49c4-a542-49f14fb9d97e",
   "metadata": {},
   "outputs": [
    {
     "ename": "SyntaxError",
     "evalue": "invalid syntax (214086293.py, line 3)",
     "output_type": "error",
     "traceback": [
      "\u001b[0;36m  Cell \u001b[0;32mIn[67], line 3\u001b[0;36m\u001b[0m\n\u001b[0;31m    this helps to code decission based on some preconditions\u001b[0m\n\u001b[0m         ^\u001b[0m\n\u001b[0;31mSyntaxError\u001b[0m\u001b[0;31m:\u001b[0m invalid syntax\n"
     ]
    }
   ],
   "source": [
    "##06 How do conditional statements work in Python? Illustrate with examples.\n",
    "\n",
    "'''\n",
    "this helps to code decission based on some preconditions\n",
    "\n",
    "##if  the statement is true then block of code will be execute\n",
    "-------------------------------------------------------------\n",
    "a= 100\n",
    "if a > 0:\n",
    "    print('the number is greater than 0')\n",
    "        \n",
    "## if  the statement is false then else block of code will be execute\n",
    "---------------------------------------------------------------------\n",
    "weather = 'sunny'\n",
    "\n",
    "if weather != 'sunny':\n",
    "    print('i will play cricket')\n",
    "else:\n",
    "    print('i will watch TV')\n",
    "\n",
    "##elif Checks another condition if the previous if condition is false then block of code will execute\n",
    "-----------------------------------------------------------------------------------------------------\n",
    "\n",
    "a = 10\n",
    "\n",
    "if a > 100:\n",
    "    print('This block will be executed if a is greater than 100')\n",
    "elif a < 100:  \n",
    "    print('This block will be executed if a is less than 100')\n",
    "else:\n",
    "    print('The number is equal to 100')\n",
    "    \n",
    "    \n",
    "## nested if else {we have multiple if else inside the if else statement}\n",
    "-------------------------------------------------------------------------\n",
    "\n",
    "x= 1\n",
    "y= 6\n",
    "if x > 5:\n",
    "    if y>5:\n",
    "        print('both x & y is greater than 5')\n",
    "    else:\n",
    "         print('x is greater than 5 but y is lesser than 5')\n",
    "else:\n",
    "    print('x is not greater than 5')\n",
    "##"
   ]
  },
  {
   "cell_type": "code",
   "execution_count": 10,
   "id": "7c75dc1d-2116-427a-96ca-19416de94d7d",
   "metadata": {},
   "outputs": [
    {
     "name": "stdout",
     "output_type": "stream",
     "text": [
      "x is not greater than 5\n"
     ]
    }
   ],
   "source": [
    "##07 Describe the different types of loops in Python and their use cases with examples.\n",
    "\n",
    "'''\n",
    "loop statement allows to execute a block of code repeatedly\n",
    "it is two types 1. while loop\n",
    "                2. For loop\n",
    "##while loop repeatedly execute a block of code until a condition is met\n",
    "example\n",
    "\n",
    "n=7\n",
    "i=1\n",
    "while i>n:\n",
    "    print(i)\n",
    "    i= i+1\n",
    "else:\n",
    "    print('This will be execute when the while loop is run successfully without any break')\n",
    "    \n",
    "##For loop will create over a sequence of element \n",
    "\n",
    "example with a string value\n",
    "\n",
    "a = \"helloworld\"\n",
    "for b in a: \n",
    "    print(b)\n",
    "    \n",
    "example with a list value \n",
    "\n",
    "a = [1,2,'hello', 'world']\n",
    "for b in a:\n",
    "    print(b)"
   ]
  },
  {
   "cell_type": "code",
   "execution_count": 21,
   "id": "47a6c5e9-ef8d-448f-a17f-e67739ae1209",
   "metadata": {},
   "outputs": [
    {
     "name": "stdout",
     "output_type": "stream",
     "text": [
      "1\n",
      "2\n",
      "hello\n",
      "world\n"
     ]
    }
   ],
   "source": []
  },
  {
   "cell_type": "code",
   "execution_count": null,
   "id": "5c175b6e-520c-45cc-af21-b82f7e66e421",
   "metadata": {},
   "outputs": [],
   "source": []
  }
 ],
 "metadata": {
  "kernelspec": {
   "display_name": "Python 3 (ipykernel)",
   "language": "python",
   "name": "python3"
  },
  "language_info": {
   "codemirror_mode": {
    "name": "ipython",
    "version": 3
   },
   "file_extension": ".py",
   "mimetype": "text/x-python",
   "name": "python",
   "nbconvert_exporter": "python",
   "pygments_lexer": "ipython3",
   "version": "3.10.8"
  }
 },
 "nbformat": 4,
 "nbformat_minor": 5
}
